{
 "cells": [
  {
   "cell_type": "markdown",
   "id": "c599fa6f",
   "metadata": {},
   "source": [
    "# Strings"
   ]
  },
  {
   "cell_type": "markdown",
   "id": "7d01b704",
   "metadata": {},
   "source": [
    "### 1. ¿Qué es un string?"
   ]
  },
  {
   "cell_type": "markdown",
   "id": "db7565ef",
   "metadata": {},
   "source": [
    "Un **string** se corresponde con un conjunto de caracteres que forman una cadena de texto.\n",
    "\n",
    "La sintaxis que debemos utilizar para definir strings en Python consiste en situar los caracteres entre `\"` o `'`"
   ]
  },
  {
   "cell_type": "code",
   "execution_count": 1,
   "id": "ba21cf77",
   "metadata": {},
   "outputs": [],
   "source": [
    "var = \"Esto es un string\""
   ]
  },
  {
   "cell_type": "code",
   "execution_count": 3,
   "id": "1d4af7d0",
   "metadata": {},
   "outputs": [],
   "source": [
    "var2 = 'Esto es un string'"
   ]
  },
  {
   "cell_type": "markdown",
   "id": "32259286",
   "metadata": {},
   "source": [
    "La flexibilidad de definir string con el caracter `\"` y el caracter `'` nos permite definir cadenas de texto que contienen esos mismos caracteres."
   ]
  },
  {
   "cell_type": "code",
   "execution_count": 6,
   "id": "a2106e67",
   "metadata": {},
   "outputs": [
    {
     "name": "stdout",
     "output_type": "stream",
     "text": [
      "Los strings pueden definirse con el caracter ''\n"
     ]
    }
   ],
   "source": [
    "var = \"Los strings pueden definirse con el caracter ''\"\n",
    "print(var)"
   ]
  },
  {
   "cell_type": "code",
   "execution_count": 7,
   "id": "a2c9e2b7",
   "metadata": {},
   "outputs": [
    {
     "name": "stdout",
     "output_type": "stream",
     "text": [
      "Los strings pueden definirse con el caracter\"\"\n"
     ]
    }
   ],
   "source": [
    "var =  'Los strings pueden definirse con el caracter \"\"'\n",
    "print(var)"
   ]
  },
  {
   "cell_type": "markdown",
   "id": "9113885b",
   "metadata": {},
   "source": [
    "### 2. Indexación"
   ]
  },
  {
   "cell_type": "markdown",
   "id": "bf5602a0",
   "metadata": {},
   "source": [
    "En muchos tipos de datos en Python se puede acceder a elementos individuales de un conjunto ordenado de datos directamente mediante un índice numérico o un valor clave. Este proceso se denomina indexación.\n",
    "\n",
    "En Python, las cadenas son secuencias ordenadas de caracteres, y por lo tanto pueden ser indexadas de esta manera. Se puede acceder a los caracteres individuales de una cadena especificando el nombre de la cadena seguido de un número entre corchetes `[]`.\n",
    "\n",
    "El primer carácter de la cadena tiene el índice 0, el siguiente tiene el índice 1, y así sucesivamente. El índice del último carácter será la longitud de la cadena menos uno."
   ]
  },
  {
   "cell_type": "code",
   "execution_count": 8,
   "id": "73cfdb18",
   "metadata": {},
   "outputs": [],
   "source": [
    "nombre = \"Edualter\""
   ]
  },
  {
   "cell_type": "code",
   "execution_count": 9,
   "id": "684458f6",
   "metadata": {},
   "outputs": [
    {
     "data": {
      "text/plain": [
       "'E'"
      ]
     },
     "execution_count": 9,
     "metadata": {},
     "output_type": "execute_result"
    }
   ],
   "source": [
    "nombre[0]"
   ]
  },
  {
   "cell_type": "code",
   "execution_count": 10,
   "id": "fabe76ec",
   "metadata": {},
   "outputs": [
    {
     "data": {
      "text/plain": [
       "'u'"
      ]
     },
     "execution_count": 10,
     "metadata": {},
     "output_type": "execute_result"
    }
   ],
   "source": [
    "nombre[2]"
   ]
  },
  {
   "cell_type": "markdown",
   "id": "f27c5961",
   "metadata": {},
   "source": [
    "Tambien podemos utilizar números negativos para extraer caracteres por el final de la cadena de texto."
   ]
  },
  {
   "cell_type": "code",
   "execution_count": 11,
   "id": "e2d1d3cf",
   "metadata": {},
   "outputs": [
    {
     "data": {
      "text/plain": [
       "'r'"
      ]
     },
     "execution_count": 11,
     "metadata": {},
     "output_type": "execute_result"
    }
   ],
   "source": [
    "nombre[-1]"
   ]
  },
  {
   "cell_type": "code",
   "execution_count": 12,
   "id": "11671185",
   "metadata": {},
   "outputs": [
    {
     "data": {
      "text/plain": [
       "'t'"
      ]
     },
     "execution_count": 12,
     "metadata": {},
     "output_type": "execute_result"
    }
   ],
   "source": [
    "nombre[-3]"
   ]
  },
  {
   "cell_type": "markdown",
   "id": "6a74b2f5",
   "metadata": {},
   "source": [
    "### 3. Slicing"
   ]
  },
  {
   "cell_type": "markdown",
   "id": "70996c87",
   "metadata": {},
   "source": [
    "Python también permite una sintaxis específica de indexación que extrae subcadenas de una cadena de texto, a esto se denomina **slicing**. \n",
    "\n",
    "La sintaxis que se utiliza para extraer una subcadena de una cadena `s` es de la forma `s[m:n]`, esto devuelve la porción de `s` que comienza en la posición `m`, y termina en la posición `n` (sin ser incluido el último caracter)"
   ]
  },
  {
   "cell_type": "code",
   "execution_count": 14,
   "id": "9733e9f1",
   "metadata": {},
   "outputs": [],
   "source": [
    "nombre = \"Edualter Fernandez\""
   ]
  },
  {
   "cell_type": "code",
   "execution_count": 15,
   "id": "340f2c8b",
   "metadata": {},
   "outputs": [
    {
     "data": {
      "text/plain": [
       "'Edualter'"
      ]
     },
     "execution_count": 15,
     "metadata": {},
     "output_type": "execute_result"
    }
   ],
   "source": [
    "nombre[0:8]"
   ]
  },
  {
   "cell_type": "code",
   "execution_count": 18,
   "id": "f4938e9b",
   "metadata": {},
   "outputs": [
    {
     "data": {
      "text/plain": [
       "''"
      ]
     },
     "execution_count": 18,
     "metadata": {},
     "output_type": "execute_result"
    }
   ],
   "source": [
    "nombre[-9:-1]"
   ]
  },
  {
   "cell_type": "markdown",
   "id": "379b5679",
   "metadata": {},
   "source": [
    "Si no indicamos uno de los números, lee hasta el final."
   ]
  },
  {
   "cell_type": "code",
   "execution_count": 20,
   "id": "11f30aa6",
   "metadata": {},
   "outputs": [
    {
     "data": {
      "text/plain": [
       "'Fernandez'"
      ]
     },
     "execution_count": 20,
     "metadata": {},
     "output_type": "execute_result"
    }
   ],
   "source": [
    "nombre[-9:]"
   ]
  },
  {
   "cell_type": "code",
   "execution_count": 19,
   "id": "72b22900",
   "metadata": {},
   "outputs": [
    {
     "data": {
      "text/plain": [
       "'Fernandez'"
      ]
     },
     "execution_count": 19,
     "metadata": {},
     "output_type": "execute_result"
    }
   ],
   "source": [
    "nombre[9:]"
   ]
  },
  {
   "cell_type": "code",
   "execution_count": 21,
   "id": "ab546177",
   "metadata": {},
   "outputs": [
    {
     "data": {
      "text/plain": [
       "'Edualter'"
      ]
     },
     "execution_count": 21,
     "metadata": {},
     "output_type": "execute_result"
    }
   ],
   "source": [
    "nombre[:8]"
   ]
  },
  {
   "cell_type": "markdown",
   "id": "a72189b8",
   "metadata": {},
   "source": [
    "### 4. Stride"
   ]
  },
  {
   "cell_type": "markdown",
   "id": "1ab196e3",
   "metadata": {},
   "source": [
    "El stride es otra variante más del slicing. Si se añade un `:` adicional y un tercer índice, se designa una stride, que indica cuantos caracteres saltar hasta obtener el siguiente caracter."
   ]
  },
  {
   "cell_type": "code",
   "execution_count": 22,
   "id": "f5f4a2f6",
   "metadata": {},
   "outputs": [],
   "source": [
    "nombre = \"Edualter Fernandez\""
   ]
  },
  {
   "cell_type": "code",
   "execution_count": 23,
   "id": "549a35a8",
   "metadata": {},
   "outputs": [
    {
     "data": {
      "text/plain": [
       "'Eule'"
      ]
     },
     "execution_count": 23,
     "metadata": {},
     "output_type": "execute_result"
    }
   ],
   "source": [
    "nombre[0:8:2]"
   ]
  },
  {
   "cell_type": "code",
   "execution_count": 24,
   "id": "f7a095e0",
   "metadata": {},
   "outputs": [
    {
     "data": {
      "text/plain": [
       "'Edualter'"
      ]
     },
     "execution_count": 24,
     "metadata": {},
     "output_type": "execute_result"
    }
   ],
   "source": [
    "nombre[:8:1]"
   ]
  },
  {
   "cell_type": "code",
   "execution_count": 25,
   "id": "7749de03",
   "metadata": {},
   "outputs": [
    {
     "data": {
      "text/plain": [
       "'Eae'"
      ]
     },
     "execution_count": 25,
     "metadata": {},
     "output_type": "execute_result"
    }
   ],
   "source": [
    "nombre[:8:3]"
   ]
  },
  {
   "cell_type": "markdown",
   "id": "d73d847a",
   "metadata": {},
   "source": [
    "### 5. Modificación de strings"
   ]
  },
  {
   "cell_type": "markdown",
   "id": "75d9b28c",
   "metadata": {},
   "source": [
    "Un string es un tipo de dato que Python considera **inmutable**, esto quiere decir que no podemos modificar una parte de un string asociada a una variable"
   ]
  },
  {
   "cell_type": "code",
   "execution_count": 26,
   "id": "59692e7e",
   "metadata": {},
   "outputs": [],
   "source": [
    "nombre = \"Edualter\""
   ]
  },
  {
   "cell_type": "code",
   "execution_count": 27,
   "id": "087ec591",
   "metadata": {},
   "outputs": [
    {
     "data": {
      "text/plain": [
       "'a'"
      ]
     },
     "execution_count": 27,
     "metadata": {},
     "output_type": "execute_result"
    }
   ],
   "source": [
    "nombre[3]"
   ]
  },
  {
   "cell_type": "code",
   "execution_count": 29,
   "id": "dadf135e",
   "metadata": {},
   "outputs": [
    {
     "ename": "TypeError",
     "evalue": "'str' object does not support item assignment",
     "output_type": "error",
     "traceback": [
      "\u001b[1;31m---------------------------------------------------------------------------\u001b[0m",
      "\u001b[1;31mTypeError\u001b[0m                                 Traceback (most recent call last)",
      "Cell \u001b[1;32mIn[29], line 1\u001b[0m\n\u001b[1;32m----> 1\u001b[0m nombre[\u001b[38;5;241m3\u001b[39m] \u001b[38;5;241m=\u001b[39m \u001b[38;5;124m'\u001b[39m\u001b[38;5;124me\u001b[39m\u001b[38;5;124m'\u001b[39m\n",
      "\u001b[1;31mTypeError\u001b[0m: 'str' object does not support item assignment"
     ]
    }
   ],
   "source": [
    "nombre[3] = 'e'"
   ]
  },
  {
   "cell_type": "markdown",
   "id": "e700c8ef",
   "metadata": {},
   "source": [
    "A pesar de que no pueda modificarse el contenido de un string, si puede asignarse un string diferente a la variable."
   ]
  },
  {
   "cell_type": "code",
   "execution_count": 30,
   "id": "1b6f06fc",
   "metadata": {},
   "outputs": [],
   "source": [
    "nombre = \"Juan\""
   ]
  },
  {
   "cell_type": "markdown",
   "id": "c4f5ab3e",
   "metadata": {},
   "source": [
    "### 6. Strings de múltiples líneas"
   ]
  },
  {
   "cell_type": "markdown",
   "id": "5162b9b0",
   "metadata": {},
   "source": [
    "En algunas ocasiones es posible que queramos definir un string que tenga múltiples líneas. Existen varias formas de definir esto en Python."
   ]
  },
  {
   "cell_type": "markdown",
   "id": "d3792feb",
   "metadata": {},
   "source": [
    "La forma más sencilla es introducir el caracter `\\n` en la posición de la cadena de texto donde queremos que se produzca el salto de línea."
   ]
  },
  {
   "cell_type": "code",
   "execution_count": null,
   "id": "ef713923",
   "metadata": {},
   "outputs": [],
   "source": [
    "nombre = \"edualter\\n Fernandez\\n Jimenez\""
   ]
  },
  {
   "cell_type": "code",
   "execution_count": 31,
   "id": "483eb279",
   "metadata": {},
   "outputs": [
    {
     "name": "stdout",
     "output_type": "stream",
     "text": [
      "Juan\n"
     ]
    }
   ],
   "source": [
    "print(nombre)"
   ]
  },
  {
   "cell_type": "markdown",
   "id": "26f18e39",
   "metadata": {},
   "source": [
    "Otra opción interesante es situar nuestra cadena de texto entre los caracteres ```\"\"\"```."
   ]
  },
  {
   "cell_type": "code",
   "execution_count": null,
   "id": "25ca573b",
   "metadata": {},
   "outputs": [],
   "source": [
    "nobmre = \"\"\"Edualter\n",
    "Fernandez\n",
    "Jimenez\"\"\""
   ]
  },
  {
   "cell_type": "code",
   "execution_count": 32,
   "id": "f140aa4b",
   "metadata": {
    "scrolled": true
   },
   "outputs": [
    {
     "name": "stdout",
     "output_type": "stream",
     "text": [
      "Juan\n"
     ]
    }
   ],
   "source": [
    "print(nombre)"
   ]
  }
 ],
 "metadata": {
  "kernelspec": {
   "display_name": "Python 3 (ipykernel)",
   "language": "python",
   "name": "python3"
  },
  "language_info": {
   "codemirror_mode": {
    "name": "ipython",
    "version": 3
   },
   "file_extension": ".py",
   "mimetype": "text/x-python",
   "name": "python",
   "nbconvert_exporter": "python",
   "pygments_lexer": "ipython3",
   "version": "3.11.7"
  }
 },
 "nbformat": 4,
 "nbformat_minor": 5
}
